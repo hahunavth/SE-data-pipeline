{
 "cells": [
  {
   "cell_type": "code",
   "execution_count": 23,
   "metadata": {},
   "outputs": [
    {
     "data": {
      "text/plain": [
       "CommitInfo(commit_url='https://huggingface.co/datasets/hahunavth/se-yt-test-2/commit/24f5fa36e464640d868179eb7c7d3586a6b074ee', commit_message='Upload folder using huggingface_hub', commit_description='', oid='24f5fa36e464640d868179eb7c7d3586a6b074ee', pr_url=None, pr_revision=None, pr_num=None)"
      ]
     },
     "execution_count": 23,
     "metadata": {},
     "output_type": "execute_result"
    }
   ],
   "source": [
    "from huggingface_hub import upload_folder, create_branch\n",
    "\n",
    "upload_folder(\n",
    "    # repo_id=\"hahunavth/emo_wav_ds\",\n",
    "    repo_id=\"hahunavth/se-yt-test-2\",\n",
    "    repo_type=\"dataset\",\n",
    "    folder_path=\"tmp/a\",\n",
    "    path_in_repo=\"testttt\",\n",
    "    revision=\"nb4\",\n",
    "    token=\"\",\n",
    ")"
   ]
  },
  {
   "cell_type": "code",
   "execution_count": 22,
   "metadata": {},
   "outputs": [],
   "source": [
    "create_branch(\n",
    "    repo_id=\"hahunavth/se-yt-test-2\", \n",
    "    repo_type=\"dataset\", \n",
    "    branch=\"nb4\",\n",
    "    revision=\"24774ff3033b720c9aa105d031664e7082309c2e\",\n",
    "    token=\"\",\n",
    ")"
   ]
  }
 ],
 "metadata": {
  "kernelspec": {
   "display_name": "venv",
   "language": "python",
   "name": "python3"
  },
  "language_info": {
   "codemirror_mode": {
    "name": "ipython",
    "version": 3
   },
   "file_extension": ".py",
   "mimetype": "text/x-python",
   "name": "python",
   "nbconvert_exporter": "python",
   "pygments_lexer": "ipython3",
   "version": "3.11.9"
  }
 },
 "nbformat": 4,
 "nbformat_minor": 2
}
