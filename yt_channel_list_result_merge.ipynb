{
 "cells": [
  {
   "cell_type": "markdown",
   "metadata": {},
   "source": [
    "## Merge csv files -> select 10k+ sub"
   ]
  },
  {
   "cell_type": "code",
   "execution_count": null,
   "metadata": {},
   "outputs": [],
   "source": [
    "import pandas as pd\n",
    "import os\n",
    "\n",
    "path = \"./data/channel_list\"\n",
    "files = [os.path.join(path, f) for f in os.listdir(path) if f.endswith('.csv')]\n",
    "df = pd.concat(map(pd.read_csv, files))\n",
    "# unique values\n",
    "df = df.drop_duplicates()"
   ]
  },
  {
   "cell_type": "code",
   "execution_count": null,
   "metadata": {},
   "outputs": [],
   "source": [
    "df = df[df['n_subs'] > 10000]\n",
    "len(df)"
   ]
  },
  {
   "cell_type": "code",
   "execution_count": null,
   "metadata": {},
   "outputs": [],
   "source": [
    "df[[\"title\",\"id\",\"n_videos\",\"n_views\",\"n_subs\",\"custom_url\",\"email\",\"url\"]].to_csv('10k_sub_+.csv', index=False)"
   ]
  },
  {
   "cell_type": "markdown",
   "metadata": {},
   "source": [
    "## kinh tế, tài chính, đầu tư 10k+"
   ]
  },
  {
   "cell_type": "code",
   "execution_count": 13,
   "metadata": {},
   "outputs": [],
   "source": [
    "import pandas as pd\n",
    "import os\n",
    "\n",
    "fpaths = [\n",
    "    \"data/channel_list/channels-tài_chính.csv\",\n",
    "    \"data/channel_list/channels-kinh_tế.csv\",\n",
    "    \"data/channel_list/channels-đầu_tư.csv\",\n",
    "    \"data/channel_list/channels-tài_chính-2.csv\",\n",
    "    \"data/channel_list/channels-kinh_tế-2.csv\",\n",
    "    \"data/channel_list/channels-đầu_tư-2.csv\",\n",
    "]\n",
    "\n",
    "files = [f for f in fpaths if f.endswith('.csv')]\n",
    "df = pd.concat(map(pd.read_csv, files))\n",
    "\n",
    "df = df.drop_duplicates()"
   ]
  },
  {
   "cell_type": "code",
   "execution_count": 14,
   "metadata": {},
   "outputs": [
    {
     "data": {
      "text/plain": [
       "159"
      ]
     },
     "execution_count": 14,
     "metadata": {},
     "output_type": "execute_result"
    }
   ],
   "source": [
    "df = df[df['n_subs'] > 10000]\n",
    "len(df)"
   ]
  },
  {
   "cell_type": "code",
   "execution_count": 15,
   "metadata": {},
   "outputs": [],
   "source": [
    "df[[\"title\",\"id\",\"n_videos\",\"n_views\",\"n_subs\",\"custom_url\",\"email\",\"url\"]].to_csv('finance_kw_10k_sub_+.csv', index=False)"
   ]
  }
 ],
 "metadata": {
  "kernelspec": {
   "display_name": "venv",
   "language": "python",
   "name": "python3"
  },
  "language_info": {
   "codemirror_mode": {
    "name": "ipython",
    "version": 3
   },
   "file_extension": ".py",
   "mimetype": "text/x-python",
   "name": "python",
   "nbconvert_exporter": "python",
   "pygments_lexer": "ipython3",
   "version": "3.11.9"
  }
 },
 "nbformat": 4,
 "nbformat_minor": 2
}
