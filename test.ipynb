{
 "cells": [
  {
   "cell_type": "markdown",
   "metadata": {},
   "source": [
    "## Merge csv"
   ]
  },
  {
   "cell_type": "code",
   "execution_count": 1,
   "metadata": {},
   "outputs": [],
   "source": [
    "import pandas as pd"
   ]
  },
  {
   "cell_type": "code",
   "execution_count": 4,
   "metadata": {},
   "outputs": [],
   "source": [
    "# read all csv and merge them\n",
    "import os\n",
    "\n",
    "path = \"./data/channel_list\"\n",
    "files = [os.path.join(path, f) for f in os.listdir(path) if f.endswith('.csv')]\n",
    "df = pd.concat(map(pd.read_csv, files))\n",
    "# unique values\n",
    "df = df.drop_duplicates()"
   ]
  },
  {
   "cell_type": "code",
   "execution_count": 6,
   "metadata": {},
   "outputs": [],
   "source": [
    "df = df[df['n_subs'] > 10000]"
   ]
  },
  {
   "cell_type": "code",
   "execution_count": 7,
   "metadata": {},
   "outputs": [
    {
     "data": {
      "text/plain": [
       "1855"
      ]
     },
     "execution_count": 7,
     "metadata": {},
     "output_type": "execute_result"
    }
   ],
   "source": [
    "len(df)"
   ]
  },
  {
   "cell_type": "code",
   "execution_count": 8,
   "metadata": {},
   "outputs": [],
   "source": [
    "df.to_csv('10k_sub_+.csv', index=False)"
   ]
  },
  {
   "cell_type": "markdown",
   "metadata": {},
   "source": [
    "## Out.txt"
   ]
  },
  {
   "cell_type": "code",
   "execution_count": 5,
   "metadata": {},
   "outputs": [],
   "source": [
    "import pandas as pd"
   ]
  },
  {
   "cell_type": "code",
   "execution_count": 6,
   "metadata": {},
   "outputs": [],
   "source": [
    "df = pd.read_csv(\"data/channel_list_merged/10k_sub_+.csv\")"
   ]
  },
  {
   "cell_type": "code",
   "execution_count": 7,
   "metadata": {},
   "outputs": [
    {
     "data": {
      "text/plain": [
       "736"
      ]
     },
     "execution_count": 7,
     "metadata": {},
     "output_type": "execute_result"
    }
   ],
   "source": [
    "len(df[df['n_subs'] > 10000])"
   ]
  },
  {
   "cell_type": "code",
   "execution_count": 10,
   "metadata": {},
   "outputs": [],
   "source": [
    "rs = []\n",
    "import json\n",
    "with open(\"./out.txt\", \"r\") as f:\n",
    "    r = f.readlines()\n",
    "    for i in r:\n",
    "        rs.append(json.loads(i.replace(\"'\", \"\\\"\").replace(\"False\", \"false\").replace(\"True\", \"true\")))"
   ]
  },
  {
   "cell_type": "code",
   "execution_count": 37,
   "metadata": {},
   "outputs": [],
   "source": [
    "import numpy as np\n",
    "\n",
    "def clean_channel_cond(r):\n",
    "    n_total = len(r['snrss'])\n",
    "    n_snr_ok = (np.array(r['snrss']) > 15).sum()\n",
    "    n_ac_ok = (np.array(r['acss'])).sum()\n",
    "    return n_total > 0 and n_snr_ok / n_total > 0.5 and n_ac_ok / n_total > 0.4\n",
    "\n",
    "def get_num(r):\n",
    "    n_total = len(r['snrss'])\n",
    "    n_snr_ok = (np.array(r['snrss']) > 15).sum()\n",
    "    n_ac_ok = (np.array(r['acss'])).sum()\n",
    "    return {\"URL\": r['url'], \"n_total\": n_total, \"n_snr_ok\": n_snr_ok, \"n_ac_ok\": n_ac_ok}\n",
    "\n",
    "r_ok = []\n",
    "n_ok = []\n",
    "for r in rs:\n",
    "    if clean_channel_cond(r):\n",
    "        r_ok.append(r)\n",
    "        n_ok.append(get_num(r))\n",
    "\n",
    "r_not_ok = []\n",
    "n_not_ok = []\n",
    "for r in rs:\n",
    "    if not clean_channel_cond(r):\n",
    "        r_not_ok.append(r)\n",
    "        n_not_ok.append(get_num(r))"
   ]
  },
  {
   "cell_type": "code",
   "execution_count": 38,
   "metadata": {},
   "outputs": [
    {
     "data": {
      "text/plain": [
       "46"
      ]
     },
     "execution_count": 38,
     "metadata": {},
     "output_type": "execute_result"
    }
   ],
   "source": [
    "len(r_ok)"
   ]
  },
  {
   "cell_type": "code",
   "execution_count": 39,
   "metadata": {},
   "outputs": [
    {
     "data": {
      "text/plain": [
       "154"
      ]
     },
     "execution_count": 39,
     "metadata": {},
     "output_type": "execute_result"
    }
   ],
   "source": [
    "len(r_not_ok)"
   ]
  },
  {
   "cell_type": "code",
   "execution_count": 41,
   "metadata": {},
   "outputs": [],
   "source": [
    "ok_df = df[df['URL'].isin([r['url'] for r in r_ok])]\n",
    "not_ok_df = df[df['URL'].isin([r['url'] for r in r_not_ok])]"
   ]
  },
  {
   "cell_type": "code",
   "execution_count": 42,
   "metadata": {},
   "outputs": [],
   "source": [
    "# join n_total, n_snr_ok, n_ac_ok\n",
    "ok_df = pd.merge(ok_df, pd.DataFrame(n_ok), left_on='URL', right_on='URL')\n",
    "not_ok_df = pd.merge(not_ok_df, pd.DataFrame(n_not_ok), left_on='URL', right_on='URL')"
   ]
  },
  {
   "cell_type": "code",
   "execution_count": 44,
   "metadata": {},
   "outputs": [],
   "source": [
    "ok_df.to_csv('channels_10k_sub+_first_200_clean.csv', index=False)\n",
    "not_ok_df.to_csv('channels_10k_sub+_first_200_not_clean.csv', index=False)"
   ]
  }
 ],
 "metadata": {
  "kernelspec": {
   "display_name": "venv",
   "language": "python",
   "name": "python3"
  },
  "language_info": {
   "codemirror_mode": {
    "name": "ipython",
    "version": 3
   },
   "file_extension": ".py",
   "mimetype": "text/x-python",
   "name": "python",
   "nbconvert_exporter": "python",
   "pygments_lexer": "ipython3",
   "version": "3.11.9"
  }
 },
 "nbformat": 4,
 "nbformat_minor": 2
}
