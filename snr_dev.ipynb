{
 "cells": [
  {
   "cell_type": "code",
   "execution_count": 8,
   "metadata": {},
   "outputs": [],
   "source": [
    "import numpy as np\n",
    "import librosa\n",
    "import scipy.stats as stats\n",
    "\n",
    "\n",
    "FRAME_LENGTH = 2048\n",
    "HOP_LENGTH = 512\n",
    "EXPECTED_SAMPLE_RATE = 48000\n",
    "\n",
    "\n",
    "def estimate_snr(audio, sample_rate):\n",
    "    if sample_rate != EXPECTED_SAMPLE_RATE:\n",
    "        raise ValueError(f\"Sample rate {sample_rate} does not match the expected rate of {EXPECTED_SAMPLE_RATE} Hz\")\n",
    "\n",
    "    frames = librosa.util.frame(audio, frame_length=FRAME_LENGTH, hop_length=HOP_LENGTH)\n",
    "\n",
    "    snr_values = []\n",
    "\n",
    "    for frame in frames.T:\n",
    "        gamma_params = stats.gamma.fit(np.abs(frame))\n",
    "\n",
    "        mean = np.mean(frame)\n",
    "        std_dev = np.std(frame)\n",
    "        noise_power = std_dev ** 2\n",
    "\n",
    "        signal_power = gamma_params[1] ** 2\n",
    "\n",
    "        snr_frame = 10 * np.log10(signal_power / noise_power)\n",
    "        snr_values.append(snr_frame)\n",
    "\n",
    "    return np.mean(snr_values)\n",
    "\n",
    "\n",
    "def load_audio(file_path):\n",
    "    signal, sample_rate = librosa.load(file_path, sr=None)\n",
    "    return signal, sample_rate\n",
    "\n",
    "\n",
    "def validate_audio_snr(audio_path):\n",
    "    try:\n",
    "        signal, sample_rate = load_audio(audio_path)\n",
    "\n",
    "        snr = estimate_snr(signal, sample_rate)\n",
    "        print(f\"SNR estimate for {audio_path}: {snr:.2f} dB\")\n",
    "        return snr\n",
    "    except Exception as e:\n",
    "        print(f\"Error processing {audio_path}: {e}\")\n",
    "        return None"
   ]
  },
  {
   "cell_type": "code",
   "execution_count": 7,
   "metadata": {},
   "outputs": [
    {
     "name": "stdout",
     "output_type": "stream",
     "text": [
      "SNR estimate for data/audio_sample/noise.wav: -75.05 dB\n"
     ]
    },
    {
     "data": {
      "text/plain": [
       "-75.05090647493"
      ]
     },
     "execution_count": 7,
     "metadata": {},
     "output_type": "execute_result"
    }
   ],
   "source": [
    "# fpath = \"data/audio_sample/noise.wav\"\n",
    "# validate_audio_snr(fpath)"
   ]
  },
  {
   "cell_type": "code",
   "execution_count": 9,
   "metadata": {},
   "outputs": [
    {
     "name": "stdout",
     "output_type": "stream",
     "text": [
      "SNR estimate for data/audio_sample/clean\\HOHDaZ3BLxY_00000074.wav: -231.63 dB\n",
      "SNR estimate for data/audio_sample/clean\\p232_181.wav: -127.81 dB\n",
      "SNR estimate for data/audio_sample/clean\\p232_219.wav: -117.01 dB\n",
      "SNR estimate for data/audio_sample/clean\\p232_258.wav: -119.66 dB\n",
      "SNR estimate for data/audio_sample/clean\\p232_343.wav: -139.66 dB\n",
      "SNR estimate for data/audio_sample/clean\\p257_042.wav: -138.68 dB\n",
      "SNR estimate for data/audio_sample/clean\\p257_149.wav: -210.05 dB\n",
      "SNR estimate for data/audio_sample/clean\\p257_207.wav: -152.58 dB\n",
      "SNR estimate for data/audio_sample/clean\\p257_212.wav: -137.11 dB\n",
      "SNR estimate for data/audio_sample/clean\\p257_248.wav: -145.56 dB\n",
      "SNR estimate for data/audio_sample/clean\\p257_254.wav: -110.26 dB\n",
      "SNR estimate for data/audio_sample/noise\\HOHDaZ3BLxY_00000022.wav: -75.05 dB\n",
      "SNR estimate for data/audio_sample/noise\\p232_181_n.wav: -41.10 dB\n",
      "SNR estimate for data/audio_sample/noise\\p232_219_n.wav: -48.94 dB\n",
      "SNR estimate for data/audio_sample/noise\\p232_258_n.wav: -19.32 dB\n",
      "SNR estimate for data/audio_sample/noise\\p232_343_n.wav: -41.44 dB\n",
      "SNR estimate for data/audio_sample/noise\\p257_042_n.wav: -37.51 dB\n",
      "SNR estimate for data/audio_sample/noise\\p257_149_n.wav: -100.63 dB\n",
      "SNR estimate for data/audio_sample/noise\\p257_207_n.wav: -41.66 dB\n",
      "SNR estimate for data/audio_sample/noise\\p257_212_n.wav: -79.33 dB\n",
      "SNR estimate for data/audio_sample/noise\\p257_248_n.wav: -105.99 dB\n",
      "SNR estimate for data/audio_sample/noise\\p257_254_n.wav: -68.77 dB\n"
     ]
    }
   ],
   "source": [
    "import os\n",
    "\n",
    "snrs = []\n",
    "labels = []\n",
    "\n",
    "for f in os.listdir(\"data/audio_sample/clean\"):\n",
    "    if f.endswith(\".wav\"):\n",
    "        fpath = os.path.join(\"data/audio_sample/clean\", f)\n",
    "        snr = validate_audio_snr(fpath)\n",
    "        if snr is not None:\n",
    "            snrs.append(snr)\n",
    "            labels.append(1)\n",
    "\n",
    "for f in os.listdir(\"data/audio_sample/noise\"):\n",
    "    if f.endswith(\".wav\"):\n",
    "        fpath = os.path.join(\"data/audio_sample/noise\", f)\n",
    "        snr = validate_audio_snr(fpath)\n",
    "        if snr is not None:\n",
    "            snrs.append(snr)\n",
    "            labels.append(0)"
   ]
  },
  {
   "cell_type": "code",
   "execution_count": 11,
   "metadata": {},
   "outputs": [
    {
     "data": {
      "image/png": "[encoded data removed]",
      "text/plain": [
       "<Figure size 640x480 with 1 Axes>"
      ]
     },
     "metadata": {},
     "output_type": "display_data"
    }
   ],
   "source": [
    "import matplotlib.pyplot as plt\n",
    "\n",
    "# plt labels, snrs\n",
    "plt.scatter(labels, snrs)\n",
    "plt.xlabel(\"Label\")\n",
    "plt.ylabel(\"SNR (dB)\")\n",
    "plt.title(\"SNR of clean and noise audio samples\")\n",
    "plt.xticks([0, 1], [\"Noise\", \"Clean\"])\n",
    "plt.show()"
   ]
  },
  {
   "cell_type": "markdown",
   "metadata": {},
   "source": []
  },
  {
   "cell_type": "code",
   "execution_count": 18,
   "metadata": {},
   "outputs": [],
   "source": [
    "import numpy as np\n",
    "\n",
    "def wada_snr(wav):\n",
    "    # Direct blind estimation of the SNR of a speech signal.\n",
    "    #\n",
    "    # Paper on WADA SNR:\n",
    "    #   http://www.cs.cmu.edu/~robust/Papers/KimSternIS08.pdf\n",
    "    #\n",
    "    # This function was adapted from this matlab code:\n",
    "    #   https://labrosa.ee.columbia.edu/projects/snreval/#9\n",
    "\n",
    "    # init\n",
    "    eps = 1e-10\n",
    "    # next 2 lines define a fancy curve derived from a gamma distribution -- see paper\n",
    "    db_vals = np.arange(-20, 101)\n",
    "    g_vals = np.array([0.40974774, 0.40986926, 0.40998566, 0.40969089, 0.40986186, 0.40999006, 0.41027138, 0.41052627, 0.41101024, 0.41143264, 0.41231718, 0.41337272, 0.41526426, 0.4178192 , 0.42077252, 0.42452799, 0.42918886, 0.43510373, 0.44234195, 0.45161485, 0.46221153, 0.47491647, 0.48883809, 0.50509236, 0.52353709, 0.54372088, 0.56532427, 0.58847532, 0.61346212, 0.63954496, 0.66750818, 0.69583724, 0.72454762, 0.75414799, 0.78323148, 0.81240985, 0.84219775, 0.87166406, 0.90030504, 0.92880418, 0.95655449, 0.9835349 , 1.01047155, 1.0362095 , 1.06136425, 1.08579312, 1.1094819 , 1.13277995, 1.15472826, 1.17627308, 1.19703503, 1.21671694, 1.23535898, 1.25364313, 1.27103891, 1.28718029, 1.30302865, 1.31839527, 1.33294817, 1.34700935, 1.3605727 , 1.37345513, 1.38577122, 1.39733504, 1.40856397, 1.41959619, 1.42983624, 1.43958467, 1.44902176, 1.45804831, 1.46669568, 1.47486938, 1.48269965, 1.49034339, 1.49748214, 1.50435106, 1.51076426, 1.51698915, 1.5229097 , 1.528578  , 1.53389835, 1.5391211 , 1.5439065 , 1.54858517, 1.55310776, 1.55744391, 1.56164927, 1.56566348, 1.56938671, 1.57307767, 1.57654764, 1.57980083, 1.58304129, 1.58602496, 1.58880681, 1.59162477, 1.5941969 , 1.59693155, 1.599446  , 1.60185011, 1.60408668, 1.60627134, 1.60826199, 1.61004547, 1.61192472, 1.61369656, 1.61534074, 1.61688905, 1.61838916, 1.61985374, 1.62135878, 1.62268119, 1.62390423, 1.62513143, 1.62632463, 1.6274027 , 1.62842767, 1.62945532, 1.6303307 , 1.63128026, 1.63204102])\n",
    "\n",
    "    # peak normalize, get magnitude, clip lower bound\n",
    "    wav = np.array(wav)\n",
    "    wav = wav / abs(wav).max()\n",
    "    abs_wav = abs(wav)\n",
    "    abs_wav[abs_wav < eps] = eps\n",
    "\n",
    "    # calcuate statistics\n",
    "    # E[|z|]\n",
    "    v1 = max(eps, abs_wav.mean())\n",
    "    # E[log|z|]\n",
    "    v2 = np.log(abs_wav).mean()\n",
    "    # log(E[|z|]) - E[log(|z|)]\n",
    "    v3 = np.log(v1) - v2\n",
    "\n",
    "    # table interpolation\n",
    "    wav_snr_idx = None\n",
    "    if any(g_vals < v3):\n",
    "        wav_snr_idx = np.where(g_vals < v3)[0].max()\n",
    "    # handle edge cases or interpolate\n",
    "    if wav_snr_idx is None:\n",
    "        wav_snr = db_vals[0]\n",
    "    elif wav_snr_idx == len(db_vals) - 1:\n",
    "        wav_snr = db_vals[-1]\n",
    "    else:\n",
    "        wav_snr = db_vals[wav_snr_idx] + \\\n",
    "            (v3-g_vals[wav_snr_idx]) / (g_vals[wav_snr_idx+1] - \\\n",
    "            g_vals[wav_snr_idx]) * (db_vals[wav_snr_idx+1] - db_vals[wav_snr_idx])\n",
    "\n",
    "    # Calculate SNR\n",
    "    dEng = sum(wav**2)\n",
    "    dFactor = 10**(wav_snr / 10)\n",
    "    dNoiseEng = dEng / (1 + dFactor) # Noise energy\n",
    "    dSigEng = dEng * dFactor / (1 + dFactor) # Signal energy\n",
    "    snr = 10 * np.log10(dSigEng / dNoiseEng)\n",
    "\n",
    "    return snr"
   ]
  },
  {
   "cell_type": "code",
   "execution_count": 21,
   "metadata": {},
   "outputs": [
    {
     "name": "stdout",
     "output_type": "stream",
     "text": [
      "SNR for HOHDaZ3BLxY_00000074.wav: 34.19 dB\n",
      "SNR for p232_181.wav: 60.23 dB\n",
      "SNR for p232_219.wav: 25.28 dB\n",
      "SNR for p232_258.wav: 29.01 dB\n",
      "SNR for p232_343.wav: 37.67 dB\n",
      "SNR for p257_042.wav: 41.56 dB\n",
      "SNR for p257_149.wav: 31.82 dB\n",
      "SNR for p257_207.wav: 25.20 dB\n",
      "SNR for p257_212.wav: 32.92 dB\n",
      "SNR for p257_248.wav: 29.48 dB\n",
      "SNR for p257_254.wav: 22.11 dB\n",
      "SNR for HOHDaZ3BLxY_00000022.wav: 10.35 dB\n",
      "SNR for p232_181_n.wav: 6.43 dB\n",
      "SNR for p232_219_n.wav: 8.01 dB\n",
      "SNR for p232_258_n.wav: -0.66 dB\n",
      "SNR for p232_343_n.wav: 6.75 dB\n",
      "SNR for p257_042_n.wav: 6.38 dB\n",
      "SNR for p257_149_n.wav: 15.28 dB\n",
      "SNR for p257_207_n.wav: 3.46 dB\n",
      "SNR for p257_212_n.wav: 16.80 dB\n",
      "SNR for p257_248_n.wav: 20.17 dB\n",
      "SNR for p257_254_n.wav: 8.50 dB\n"
     ]
    }
   ],
   "source": [
    "import os\n",
    "\n",
    "snrs = []\n",
    "labels = []\n",
    "\n",
    "for f in os.listdir(\"data/audio_sample/clean\"):\n",
    "    if f.endswith(\".wav\"):\n",
    "        fpath = os.path.join(\"data/audio_sample/clean\", f)\n",
    "        snr = wada_snr(librosa.load(fpath, sr=None)[0])\n",
    "        print(f\"SNR for {f}: {snr:.2f} dB\")\n",
    "        if snr is not None:\n",
    "            snrs.append(snr)\n",
    "            labels.append(1)\n",
    "\n",
    "for f in os.listdir(\"data/audio_sample/noise\"):\n",
    "    if f.endswith(\".wav\"):\n",
    "        fpath = os.path.join(\"data/audio_sample/noise\", f)\n",
    "        snr = wada_snr(librosa.load(fpath, sr=None)[0])\n",
    "        print(f\"SNR for {f}: {snr:.2f} dB\")\n",
    "        if snr is not None:\n",
    "            snrs.append(snr)\n",
    "            labels.append(0)"
   ]
  },
  {
   "cell_type": "code",
   "execution_count": 20,
   "metadata": {},
   "outputs": [
    {
     "data": {
      "image/png": "[encoded data removed]",
      "text/plain": [
       "<Figure size 640x480 with 1 Axes>"
      ]
     },
     "metadata": {},
     "output_type": "display_data"
    }
   ],
   "source": [
    "import matplotlib.pyplot as plt\n",
    "\n",
    "# plt labels, snrs\n",
    "plt.scatter(labels, snrs)\n",
    "plt.xlabel(\"Label\")\n",
    "plt.ylabel(\"SNR (dB)\")\n",
    "plt.title(\"SNR of clean and noise audio samples\")\n",
    "plt.xticks([0, 1], [\"Noise\", \"Clean\"])\n",
    "plt.show()"
   ]
  },
  {
   "cell_type": "markdown",
   "metadata": {},
   "source": []
  },
  {
   "cell_type": "code",
   "execution_count": 25,
   "metadata": {},
   "outputs": [],
   "source": [
    "import librosa\n",
    "import numpy as np\n",
    "\n",
    "\n",
    "def estimate_snr(audio, frame_length=2048, hop_length=512, noise_threshold=0.02):\n",
    "    try:\n",
    "        frames = librosa.util.frame(\n",
    "            audio, frame_length=frame_length, hop_length=hop_length\n",
    "        )\n",
    "        rms_values = np.sqrt(np.mean(frames**2, axis=0))\n",
    "        noise_frames = rms_values < noise_threshold\n",
    "        signal_power = np.mean(rms_values[~noise_frames] ** 2)\n",
    "        noise_power = np.mean(rms_values[noise_frames] ** 2)\n",
    "        snr = 10 * np.log10(signal_power / noise_power)\n",
    "        if snr != snr: # snr is nan\n",
    "            return 0\n",
    "        return snr\n",
    "    except Exception as e:\n",
    "        # print(e)\n",
    "        return 0\n"
   ]
  },
  {
   "cell_type": "code",
   "execution_count": 26,
   "metadata": {},
   "outputs": [
    {
     "name": "stdout",
     "output_type": "stream",
     "text": [
      "SNR for HOHDaZ3BLxY_00000074.wav: 22.59 dB\n",
      "SNR for p232_181.wav: 22.76 dB\n",
      "SNR for p232_219.wav: 20.02 dB\n",
      "SNR for p232_258.wav: 21.17 dB\n",
      "SNR for p232_343.wav: 22.20 dB\n",
      "SNR for p257_042.wav: 23.46 dB\n",
      "SNR for p257_149.wav: 20.24 dB\n",
      "SNR for p257_207.wav: 18.30 dB\n",
      "SNR for p257_212.wav: 18.99 dB\n",
      "SNR for p257_248.wav: 20.89 dB\n",
      "SNR for p257_254.wav: 17.39 dB\n",
      "SNR for HOHDaZ3BLxY_00000022.wav: 22.07 dB\n",
      "SNR for p232_181_n.wav: 0.00 dB\n",
      "SNR for p232_219_n.wav: 12.76 dB\n",
      "SNR for p232_258_n.wav: 14.57 dB\n",
      "SNR for p232_343_n.wav: 12.39 dB\n",
      "SNR for p257_042_n.wav: 14.25 dB\n",
      "SNR for p257_149_n.wav: 14.58 dB\n",
      "SNR for p257_207_n.wav: 12.30 dB\n",
      "SNR for p257_212_n.wav: 16.16 dB\n",
      "SNR for p257_248_n.wav: 17.40 dB\n",
      "SNR for p257_254_n.wav: 11.54 dB\n"
     ]
    },
    {
     "name": "stderr",
     "output_type": "stream",
     "text": [
      "d:\\Projects\\SE-datapipeline\\venv\\Lib\\site-packages\\numpy\\core\\fromnumeric.py:3504: RuntimeWarning: Mean of empty slice.\n",
      "  return _methods._mean(a, axis=axis, dtype=dtype,\n",
      "d:\\Projects\\SE-datapipeline\\venv\\Lib\\site-packages\\numpy\\core\\_methods.py:129: RuntimeWarning: invalid value encountered in divide\n",
      "  ret = ret.dtype.type(ret / rcount)\n"
     ]
    }
   ],
   "source": [
    "import os\n",
    "\n",
    "snrs = []\n",
    "labels = []\n",
    "\n",
    "for f in os.listdir(\"data/audio_sample/clean\"):\n",
    "    if f.endswith(\".wav\"):\n",
    "        fpath = os.path.join(\"data/audio_sample/clean\", f)\n",
    "        snr = estimate_snr(librosa.load(fpath, sr=None)[0])\n",
    "        print(f\"SNR for {f}: {snr:.2f} dB\")\n",
    "        if snr is not None:\n",
    "            snrs.append(snr)\n",
    "            labels.append(1)\n",
    "\n",
    "for f in os.listdir(\"data/audio_sample/noise\"):\n",
    "    if f.endswith(\".wav\"):\n",
    "        fpath = os.path.join(\"data/audio_sample/noise\", f)\n",
    "        snr = estimate_snr(librosa.load(fpath, sr=None)[0])\n",
    "        print(f\"SNR for {f}: {snr:.2f} dB\")\n",
    "        if snr is not None:\n",
    "            snrs.append(snr)\n",
    "            labels.append(0)"
   ]
  },
  {
   "cell_type": "code",
   "execution_count": 27,
   "metadata": {},
   "outputs": [
    {
     "data": {
      "image/png": "[encoded data removed]",
      "text/plain": [
       "<Figure size 640x480 with 1 Axes>"
      ]
     },
     "metadata": {},
     "output_type": "display_data"
    }
   ],
   "source": [
    "import matplotlib.pyplot as plt\n",
    "\n",
    "# plt labels, snrs\n",
    "plt.scatter(labels, snrs)\n",
    "plt.xlabel(\"Label\")\n",
    "plt.ylabel(\"SNR (dB)\")\n",
    "plt.title(\"SNR of clean and noise audio samples\")\n",
    "plt.xticks([0, 1], [\"Noise\", \"Clean\"])\n",
    "plt.show()"
   ]
  },
  {
   "cell_type": "markdown",
   "metadata": {},
   "source": []
  },
  {
   "cell_type": "code",
   "execution_count": null,
   "metadata": {},
   "outputs": [],
   "source": [
    "!git clone https://github.com/msalhab96/SNR-Estimation-Using-Deep-Learning"
   ]
  }
 ],
 "metadata": {
  "kernelspec": {
   "display_name": "venv",
   "language": "python",
   "name": "python3"
  },
  "language_info": {
   "codemirror_mode": {
    "name": "ipython",
    "version": 3
   },
   "file_extension": ".py",
   "mimetype": "text/x-python",
   "name": "python",
   "nbconvert_exporter": "python",
   "pygments_lexer": "ipython3",
   "version": "3.11.9"
  }
 },
 "nbformat": 4,
 "nbformat_minor": 2
}
