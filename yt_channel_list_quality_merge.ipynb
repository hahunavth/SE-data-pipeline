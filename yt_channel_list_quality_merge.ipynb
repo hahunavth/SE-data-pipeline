{
 "cells": [
  {
   "cell_type": "markdown",
   "metadata": {},
   "source": [
    "## Out.txt"
   ]
  },
  {
   "cell_type": "code",
   "execution_count": 1,
   "metadata": {},
   "outputs": [],
   "source": [
    "\n",
    "import json\n",
    "import pandas as pd\n",
    "import numpy as np\n",
    "\n",
    "\n",
    "# CHANNEL_LIST_FILE = \"data/channel_list_merged/finance_kw_10k_sub_+.csv\"\n",
    "# CHANNEL_QUALITY_FILE = \"data/channel_quality/finance_kw_10k_sub_+_filter_0-200.jsonl\"\n",
    "\n",
    "CHANNEL_LIST_FILE = \"data/channel_list_merged/starngage_5000.csv\"\n",
    "# CHANNEL_QUALITY_FILE = \"data/channel_quality/starngage_5000_filter_0-100.jsonl\"\n",
    "# CHANNEL_QUALITY_FILE = \"data/channel_quality/starngage_5000_filter_300-600.jsonl\"\n",
    "CHANNEL_QUALITY_FILE = \"data/channel_quality/starngage_5000_filter_1000-1400.jsonl\""
   ]
  },
  {
   "cell_type": "code",
   "execution_count": 2,
   "metadata": {},
   "outputs": [
    {
     "data": {
      "text/plain": [
       "4528"
      ]
     },
     "execution_count": 2,
     "metadata": {},
     "output_type": "execute_result"
    }
   ],
   "source": [
    "df = pd.read_csv(CHANNEL_LIST_FILE)\n",
    "\n",
    "# # remove duplicates\n",
    "df = df.drop_duplicates()\n",
    "len(df[df['n_subs'] > 10000])"
   ]
  },
  {
   "cell_type": "code",
   "execution_count": 3,
   "metadata": {},
   "outputs": [],
   "source": [
    "rs = []\n",
    "with open(CHANNEL_QUALITY_FILE, \"r\") as f:\n",
    "    r = f.readlines()\n",
    "    for i in r:\n",
    "        # rs.append(json.loads(i.replace(\"'\", \"\\\"\").replace(\"False\", \"false\").replace(\"True\", \"true\")))\n",
    "        rs.append(json.loads(i))"
   ]
  },
  {
   "cell_type": "code",
   "execution_count": 4,
   "metadata": {},
   "outputs": [
    {
     "name": "stderr",
     "output_type": "stream",
     "text": [
      "d:\\Projects\\SE-datapipeline\\venv\\Lib\\site-packages\\tqdm\\auto.py:21: TqdmWarning: IProgress not found. Please update jupyter and ipywidgets. See https://ipywidgets.readthedocs.io/en/stable/user_install.html\n",
      "  from .autonotebook import tqdm as notebook_tqdm\n"
     ]
    }
   ],
   "source": [
    "#     n_total = len(r['snrss'])\n",
    "#     n_snr_ok = (np.array(r['snrss']) > 20).sum()\n",
    "#     # n_ac_ok = (np.array(r['acss'])).sum()\n",
    "\n",
    "from audio_ac import ac_get_speech_probs\n",
    "\n",
    "rs_df = pd.DataFrame(rs)\n",
    "rs_df[\"n_total\"] = rs_df.apply(lambda x: len(x['snrss']), axis=1)\n",
    "rs_df['n_srn_ok'] = rs_df.apply(lambda x: (np.array(x['snrss']) > 20).sum(), axis=1)\n",
    "rs_df['n_ac_ok'] = rs_df.apply(lambda x: len([i for i in ac_get_speech_probs(x['acss']) if i > 0.9]), axis=1)\n",
    "\n",
    "max_n_snr_ok = rs_df['n_srn_ok'].max()\n",
    "max_n_ac_ok = rs_df['n_ac_ok'].max()\n",
    "rs_df[\"score\"] = rs_df.apply(lambda x: x['n_srn_ok'] / max_n_snr_ok + x['n_ac_ok'] / max_n_ac_ok, axis=1)\n",
    "\n",
    "rs_df.drop(columns=['snrss', 'acss'], inplace=True)"
   ]
  },
  {
   "cell_type": "code",
   "execution_count": 5,
   "metadata": {},
   "outputs": [],
   "source": [
    "# rs_df inner join df\n",
    "df = df.merge(rs_df, left_on='url', right_on='url', how='inner')\n",
    "\n",
    "# move ulr column to the last\n",
    "cols = df.columns.tolist()\n",
    "cols.remove('url')\n",
    "cols.append('url')\n",
    "df = df[cols]"
   ]
  },
  {
   "cell_type": "code",
   "execution_count": 6,
   "metadata": {},
   "outputs": [],
   "source": [
    "df.sort_values(by='score', ascending=False, inplace=True)"
   ]
  },
  {
   "cell_type": "code",
   "execution_count": 7,
   "metadata": {},
   "outputs": [],
   "source": [
    "df.to_csv(\"tmp.csv\", index=False)"
   ]
  },
  {
   "cell_type": "code",
   "execution_count": 8,
   "metadata": {},
   "outputs": [],
   "source": [
    "# def clean_channel_cond(r):\n",
    "#     n_total = len(r['snrss'])\n",
    "#     n_snr_ok = (np.array(r['snrss']) > 20).sum()\n",
    "#     # n_ac_ok = (np.array(r['acss'])).sum()\n",
    "#     ac_speech_probs = []\n",
    "#     for ac_seg in r['acss']:\n",
    "#         for item in ac_seg:\n",
    "#             if item['label'] == 'Speech':\n",
    "#                 ac_speech_probs.append(item['score'])\n",
    "#     n_ac_ok = (np.array(ac_speech_probs) > 0.9).sum()\n",
    "\n",
    "#     mean_snr = np.mean(r['snrss'])\n",
    "#     mean_ac = np.mean(ac_speech_probs)\n",
    "\n",
    "#     is_good = n_total > 0 and n_snr_ok / n_total > 0.1 and n_ac_ok / n_total > 0.1\n",
    "#     return is_good, {\n",
    "#         'n_total': n_total,\n",
    "#         'n_snr_ok': n_snr_ok,\n",
    "#         'n_ac_ok': n_ac_ok,\n",
    "#         'mean_snr': mean_snr,\n",
    "#         'mean_ac': mean_ac,\n",
    "#         'url': r['url'],\n",
    "#     }\n",
    "\n",
    "# r_ok = []\n",
    "# n_ok = []\n",
    "# r_not_ok = []\n",
    "# n_not_ok = []\n",
    "# for r in rs:\n",
    "#     is_good, info = clean_channel_cond(r)\n",
    "#     if is_good:\n",
    "#         r_ok.append(r)\n",
    "#         n_ok.append(info)\n",
    "#     else:\n",
    "#         r_not_ok.append(r)\n",
    "#         n_not_ok.append(info)"
   ]
  },
  {
   "cell_type": "code",
   "execution_count": 9,
   "metadata": {},
   "outputs": [],
   "source": [
    "# ok_df = df[df['url'].isin([r['url'] for r in r_ok])]\n",
    "# not_ok_df = df[df['url'].isin([r['url'] for r in r_not_ok])]\n",
    "\n",
    "# # drop duplicate title\n",
    "# ok_df = ok_df.drop_duplicates(subset=['title'])\n",
    "# not_ok_df = not_ok_df.drop_duplicates(subset=['title'])\n",
    "\n",
    "# pass"
   ]
  },
  {
   "cell_type": "code",
   "execution_count": 10,
   "metadata": {},
   "outputs": [],
   "source": [
    "# len(ok_df)\n",
    "# not_ok_df\n",
    "# rs[1]\n",
    "# n_not_ok"
   ]
  },
  {
   "cell_type": "code",
   "execution_count": 11,
   "metadata": {},
   "outputs": [],
   "source": [
    "# len(not_ok_df)"
   ]
  },
  {
   "cell_type": "code",
   "execution_count": 12,
   "metadata": {},
   "outputs": [],
   "source": [
    "# # join n_total, n_snr_ok, n_ac_ok\n",
    "# # ok_df = pd.merge(ok_df, pd.DataFrame(n_ok), left_on='url', right_on='url')\n",
    "# not_ok_df = pd.merge(not_ok_df, pd.DataFrame(n_not_ok), left_on='url', right_on='url')\n",
    "\n",
    "# # move column 'url' to the last\n",
    "# cols = list(ok_df.columns)\n",
    "# cols.remove('url')\n",
    "# cols.append('url')\n",
    "# ok_df = ok_df[cols]\n",
    "# not_ok_df = not_ok_df[cols]"
   ]
  },
  {
   "cell_type": "code",
   "execution_count": 13,
   "metadata": {},
   "outputs": [],
   "source": [
    "# ok_df.sort_values(by='mean_snr', ascending=False)"
   ]
  },
  {
   "cell_type": "code",
   "execution_count": 14,
   "metadata": {},
   "outputs": [],
   "source": [
    "# # not_ok_df order by mean snr \n",
    "# # not_ok_df.sort_values(by='mean_ac', ascending=False).sort_values(by='mean_snr', ascending=False).head(20)\n",
    "# not_ok_df.sort_values(by='n_ac_ok', ascending=False).head(50)\n"
   ]
  },
  {
   "cell_type": "code",
   "execution_count": 15,
   "metadata": {},
   "outputs": [],
   "source": [
    "# all_df = pd.concat([ok_df, not_ok_df])\n",
    "# all_df['score'] = all_df['n_ac_ok'] / all_df['n_total']"
   ]
  },
  {
   "cell_type": "code",
   "execution_count": null,
   "metadata": {},
   "outputs": [],
   "source": []
  },
  {
   "cell_type": "code",
   "execution_count": 16,
   "metadata": {},
   "outputs": [],
   "source": [
    "# ok_df.to_csv('tmp_16_channel_ok.csv', index=False)"
   ]
  },
  {
   "cell_type": "code",
   "execution_count": 17,
   "metadata": {},
   "outputs": [],
   "source": [
    "# # move column 'url' to the last\n",
    "# cols = list(ok_df.columns)\n",
    "# cols.remove('url')\n",
    "# cols.append('url')\n",
    "# ok_df = ok_df[cols]\n",
    "# not_ok_df = not_ok_df[cols]\n",
    "\n",
    "# ok_df.to_csv('channel_clean.csv', index=False)\n",
    "# not_ok_df.to_csv('channel_noise.csv', index=False)"
   ]
  }
 ],
 "metadata": {
  "kernelspec": {
   "display_name": "venv",
   "language": "python",
   "name": "python3"
  },
  "language_info": {
   "codemirror_mode": {
    "name": "ipython",
    "version": 3
   },
   "file_extension": ".py",
   "mimetype": "text/x-python",
   "name": "python",
   "nbconvert_exporter": "python",
   "pygments_lexer": "ipython3",
   "version": "3.11.9"
  }
 },
 "nbformat": 4,
 "nbformat_minor": 2
}
